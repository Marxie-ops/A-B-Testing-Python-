{
 "cells": [
  {
   "cell_type": "markdown",
   "id": "259898ee-2277-4129-ab50-0c63b9328881",
   "metadata": {},
   "source": [
    "A/B Testing and Hypothesis Testing\n",
    "In A/B testing, the null hypothesis is that there is no difference between the control and experimental groups. The alternative hypothesis is that there is a difference.\n",
    "\n",
    "Steps to calculate critical values and p-values in this A/B testing:\n",
    "\n",
    "Chose a significance level (alpha): Typically set at 0.05.\n",
    "Determined the appropriate test statistic: For comparing proportions or means, a z-test or t-test is often used.\n",
    "Calculated the test statistic: Using the sample data and the chosen test statistic.\n",
    "Find the critical value: Look up the critical value in a statistical table or use software functions based on the significance level and test statistic distribution.\n",
    "Compared the test statistic to the critical value: If the test statistic falls in the rejection region (beyond the critical values), reject the null hypothesis.   \n",
    "Calculate the p-value: Find the probability of observing a test statistic as extreme or more extreme than the calculated one.\n",
    "Compare p-value to alpha: If the p-value is less than alpha, reject the null hypothesis."
   ]
  },
  {
   "cell_type": "code",
   "execution_count": 32,
   "id": "d3069d15-a1e1-4b41-b683-ff31722bf11f",
   "metadata": {},
   "outputs": [
    {
     "name": "stdout",
     "output_type": "stream",
     "text": [
      "   user_id  click group            timestamp\n",
      "0        1      1   exp  2024-01-01 00:00:00\n",
      "1        2      0   exp  2024-01-01 00:01:00\n",
      "2        3      1   exp  2024-01-01 00:02:00\n",
      "3        4      0   exp  2024-01-01 00:03:00\n",
      "4        5      1   exp  2024-01-01 00:04:00\n",
      "Index(['user_id', 'click', 'group', 'timestamp'], dtype='object')\n"
     ]
    }
   ],
   "source": [
    "import pandas as pd\n",
    "import numpy as np\n",
    "import matplotlib.pyplot as plt\n",
    "import seaborn as sns\n",
    "from scipy.stats import norm\n",
    "\n",
    "df_ab_test = pd.read_csv(r\"C:\\Users\\PC\\OneDrive\\Dokumente\\csv files\\ab_test_click_data (1).csv\")\n",
    "print(df_ab_test.head())\n",
    "print(df_ab_test.columns)"
   ]
  },
  {
   "cell_type": "code",
   "execution_count": 18,
   "id": "8a742312-d243-4ac7-9055-61a4c5d6cb8a",
   "metadata": {},
   "outputs": [
    {
     "data": {
      "text/html": [
       "<style type=\"text/css\">\n",
       "#T_951d3_row0_col0, #T_951d3_row1_col1 {\n",
       "  background-color: #053061;\n",
       "  color: #f1f1f1;\n",
       "}\n",
       "#T_951d3_row0_col1, #T_951d3_row1_col0 {\n",
       "  background-color: #67001f;\n",
       "  color: #f1f1f1;\n",
       "}\n",
       "</style>\n",
       "<table id=\"T_951d3\">\n",
       "  <thead>\n",
       "    <tr>\n",
       "      <th class=\"blank level0\" >&nbsp;</th>\n",
       "      <th id=\"T_951d3_level0_col0\" class=\"col_heading level0 col0\" >user_id</th>\n",
       "      <th id=\"T_951d3_level0_col1\" class=\"col_heading level0 col1\" >click</th>\n",
       "    </tr>\n",
       "    <tr>\n",
       "      <th class=\"index_name level0\" >group</th>\n",
       "      <th class=\"blank col0\" >&nbsp;</th>\n",
       "      <th class=\"blank col1\" >&nbsp;</th>\n",
       "    </tr>\n",
       "  </thead>\n",
       "  <tbody>\n",
       "    <tr>\n",
       "      <th id=\"T_951d3_level0_row0\" class=\"row_heading level0 row0\" >con</th>\n",
       "      <td id=\"T_951d3_row0_col0\" class=\"data row0 col0\" >150005000</td>\n",
       "      <td id=\"T_951d3_row0_col1\" class=\"data row0 col1\" >1989</td>\n",
       "    </tr>\n",
       "    <tr>\n",
       "      <th id=\"T_951d3_level0_row1\" class=\"row_heading level0 row1\" >exp</th>\n",
       "      <td id=\"T_951d3_row1_col0\" class=\"data row1 col0\" >50005000</td>\n",
       "      <td id=\"T_951d3_row1_col1\" class=\"data row1 col1\" >6116</td>\n",
       "    </tr>\n",
       "  </tbody>\n",
       "</table>\n"
      ],
      "text/plain": [
       "<pandas.io.formats.style.Styler at 0x1a66e570b50>"
      ]
     },
     "execution_count": 18,
     "metadata": {},
     "output_type": "execute_result"
    }
   ],
   "source": [
    "df_ab_test1 = df_ab_test.groupby(\"group\").sum(\"click\")\n",
    "df_ab_test1.style.background_gradient(cmap=\"RdBu\")"
   ]
  },
  {
   "cell_type": "markdown",
   "id": "98fff57d-1c90-4187-82b6-67c99e07a581",
   "metadata": {},
   "source": [
    "Parameters of the Model from Power Analysis"
   ]
  },
  {
   "cell_type": "markdown",
   "id": "d84dc1f6-2e4f-44fa-aed7-90148e2f0cb1",
   "metadata": {},
   "source": [
    "beta = probability of type error II(Lower Alpha Levels increases the power but also increases the risk of failing to detect a real effect),\n",
    "power = 1-beta,\n",
    "Alpha = Probability of Type I Error,\n",
    "delta = minimum detectable effect,\n",
    "Significance (Alpha) = 0.05 (5%)"
   ]
  },
  {
   "cell_type": "code",
   "execution_count": 19,
   "id": "80c7962e-84ff-4e26-b08d-a190055c796f",
   "metadata": {},
   "outputs": [
    {
     "name": "stdout",
     "output_type": "stream",
     "text": [
      "Alpha: significance level is: 0.05\n",
      "Delta: minimum detectable effect is: 0.1\n"
     ]
    }
   ],
   "source": [
    "alpha = 0.05 # 5%\n",
    "print(\"Alpha: significance level is:\", alpha )\n",
    "\n",
    "delta = 0.1 # 10%\n",
    "print(\"Delta: minimum detectable effect is:\", delta )"
   ]
  },
  {
   "cell_type": "markdown",
   "id": "2b259fee-efbc-449e-87da-741465e1d57d",
   "metadata": {},
   "source": [
    "Calculating total number of clicks per group by summing clicks"
   ]
  },
  {
   "cell_type": "code",
   "execution_count": 21,
   "id": "8f57290d-a897-4b3b-be50-daeb96607995",
   "metadata": {},
   "outputs": [
    {
     "name": "stdout",
     "output_type": "stream",
     "text": [
      "group\n",
      "con    1989\n",
      "exp    6116\n",
      "Name: click, dtype: int64\n",
      "Number of user in Control:  10000\n",
      "Number of users in Experimental:  10000\n",
      "Number of CLicks in Control:  1989\n",
      "Number of CLicks in Experimental:  6116\n"
     ]
    },
    {
     "name": "stderr",
     "output_type": "stream",
     "text": [
      "C:\\Users\\PC\\AppData\\Local\\Temp\\ipykernel_15212\\1527207372.py:1: FutureWarning: Series.__getitem__ treating keys as positions is deprecated. In a future version, integer keys will always be treated as labels (consistent with DataFrame behavior). To access a value by position, use `ser.iloc[pos]`\n",
      "  N_con = df_ab_test[df_ab_test[\"group\"] == \"con\"].count()[0]\n",
      "C:\\Users\\PC\\AppData\\Local\\Temp\\ipykernel_15212\\1527207372.py:2: FutureWarning: Series.__getitem__ treating keys as positions is deprecated. In a future version, integer keys will always be treated as labels (consistent with DataFrame behavior). To access a value by position, use `ser.iloc[pos]`\n",
      "  N_exp = df_ab_test[df_ab_test[\"group\"] == \"exp\"].count()[0]\n"
     ]
    }
   ],
   "source": [
    "N_con = df_ab_test[df_ab_test[\"group\"] == \"con\"].count()[0]\n",
    "N_exp = df_ab_test[df_ab_test[\"group\"] == \"exp\"].count()[0]\n",
    "\n",
    "# calculating the total number of clicks per group by summing 1's\n",
    "X_con = df_ab_test.groupby(\"group\")[\"click\"].sum().loc[\"con\"]\n",
    "X_exp = df_ab_test.groupby(\"group\")[\"click\"].sum().loc[\"exp\"]\n",
    "\n",
    "# printing this for visibility\n",
    "print(df_ab_test.groupby(\"group\")[\"click\"].sum())\n",
    "print(\"Number of user in Control: \", N_con)\n",
    "print(\"Number of users in Experimental: \", N_exp)\n",
    "print(\"Number of CLicks in Control: \", X_con)\n",
    "print(\"Number of CLicks in Experimental: \", X_exp)"
   ]
  },
  {
   "cell_type": "markdown",
   "id": "406f3ec8-2ee4-4679-aa49-57b758384d75",
   "metadata": {},
   "source": [
    "Calculating Pooled Estimates for Clicks per Group"
   ]
  },
  {
   "cell_type": "code",
   "execution_count": 22,
   "id": "3807660c-c189-4ade-9998-06d79e386284",
   "metadata": {},
   "outputs": [
    {
     "name": "stdout",
     "output_type": "stream",
     "text": [
      "Click Probability in Control Group: 0.1989\n",
      "Click Probability in Experimental Group: 0.6116\n",
      "Pooled Click Probability: 0.40525\n"
     ]
    }
   ],
   "source": [
    "# computing the estimate of click probability per group\n",
    "p_con_hat = X_con/N_con\n",
    "p_exp_hat = X_exp/N_exp\n",
    "print(\"Click Probability in Control Group:\", p_con_hat)\n",
    "print(\"Click Probability in Experimental Group:\", p_exp_hat)\n",
    "\n",
    "# computing the estimate of pooled clicked probability\n",
    "p_pooled_hat = (X_con+X_exp)/(N_con + N_exp)\n",
    "print(\"Pooled Click Probability:\", p_pooled_hat)"
   ]
  },
  {
   "cell_type": "markdown",
   "id": "0382a6e1-9dcf-4c8c-8443-95722551dbed",
   "metadata": {},
   "source": [
    "Calculating Pooled Variance"
   ]
  },
  {
   "cell_type": "code",
   "execution_count": 23,
   "id": "16ab61fd-f8c3-4b6b-9d14-8c7ec9a8e71e",
   "metadata": {},
   "outputs": [
    {
     "name": "stdout",
     "output_type": "stream",
     "text": [
      "p^_pooled is:  0.40525\n",
      "pooled_variance is:  4.82044875e-05\n"
     ]
    }
   ],
   "source": [
    "# computing the estimate of pooled variance\n",
    "pooled_variance = p_pooled_hat * (1-p_pooled_hat) * (1/N_con + 1/N_exp)\n",
    "print(\"p^_pooled is: \", p_pooled_hat)\n",
    "print(\"pooled_variance is: \", pooled_variance)"
   ]
  },
  {
   "cell_type": "markdown",
   "id": "74d7998d-a093-4dba-bcbc-69b075624168",
   "metadata": {},
   "source": [
    "Calculating Standard Error and Test Statistics"
   ]
  },
  {
   "cell_type": "code",
   "execution_count": 24,
   "id": "95ce384d-320b-4f47-b72e-1db59a507826",
   "metadata": {},
   "outputs": [
    {
     "name": "stdout",
     "output_type": "stream",
     "text": [
      "Standard Error is:  0.006942945160376826\n",
      "Test Statistics for 2-sample Z-test is: -59.44163326469381\n",
      "Z-critical value from Standard Normal distribution:  1.959963984540054\n"
     ]
    }
   ],
   "source": [
    "#Formula (from scipy.stats import norm, t:\n",
    "           #For a z-test:\n",
    "          # z_critical = norm.ppf(1 - alpha / 2)\n",
    "           #p_value = 2 * norm.cdf(-abs(z_score))\n",
    "\n",
    "           #For a t-test:\n",
    "           #t_critical = t.ppf(1 - alpha / 2, df)\n",
    "           #p_value = 2 * t.cdf(-abs(t_score), df))\n",
    "\n",
    "\n",
    "\n",
    "\n",
    "# computing the standard error of the test\n",
    "SE = np.sqrt(pooled_variance)\n",
    "print(\"Standard Error is: \", SE)\n",
    "\n",
    "# computing the test statistics of Z-test\n",
    "Test_stat = (p_con_hat - p_exp_hat)/SE\n",
    "print(\"Test Statistics for 2-sample Z-test is:\", Test_stat)\n",
    "\n",
    "# critical value of the Z-test\n",
    "Z_crit = norm.ppf(1-alpha/2)\n",
    "print(\"Z-critical value from Standard Normal distribution: \", Z_crit)"
   ]
  },
  {
   "cell_type": "markdown",
   "id": "514f4b95-bb2a-4c5f-93db-e820bc3da1fe",
   "metadata": {},
   "source": [
    "Calculating p_values of the Z-test\r\n",
    "A low p-value (p ≤ 0.05 at 5% significance level) indicates strong evidence against the null hypothesis, so we reject the null hypothesis.\r\n",
    "A high p-value (p > 0.05) indicates weak evidence against the null hypothesis, so we fail to reject the null hypothesis."
   ]
  },
  {
   "cell_type": "code",
   "execution_count": 25,
   "id": "e5e4c53f-e3e9-4185-9ca0-02c54ff4c34a",
   "metadata": {},
   "outputs": [
    {
     "name": "stdout",
     "output_type": "stream",
     "text": [
      "P-value of the 2-sample Z-test: 0.0\n",
      "There is statistical significance, indicating that the observed differences between the groups are unlikely to have occurred by chance alone. This suggests that the changes in the experimental group have a real effect compared to the control group.\n"
     ]
    }
   ],
   "source": [
    "#calculating p value\n",
    "p_value = 2 * norm.sf(abs(Test_stat))\n",
    "\n",
    "# function checking the statistical significance\n",
    "def is_statistical_significance(p_value, alpha):\n",
    "    \"\"\"\n",
    "    We assess whether there is statistical significance based on the p-value and alpha.\n",
    "\n",
    "    Arguments:\n",
    "    - p_value (float): The p-value resulting from a statistical test.\n",
    "    - alpha (float, optional): The significance level threshold used to determine statistical significance. Defaults to 0.05.\n",
    "\n",
    "    Returns:\n",
    "    - Prints the assessment of statistical significance.\n",
    "    \"\"\"\n",
    "\n",
    "    # Print the rounded p-value to 3 decimal places\n",
    "    print(f\"P-value of the 2-sample Z-test: {(p_value)}\")\n",
    "\n",
    "    # Determine statistical significance\n",
    "    if p_value <= alpha:\n",
    "        print(\"There is statistical significance, indicating that the observed differences between the groups are unlikely to have occurred by chance alone. This suggests that the changes in the experimental group have a real effect compared to the control group.\")\n",
    "    else:\n",
    "        print(\"There is no statistical significance, suggesting that the observed differences between the groups could have occurred by chance. This implies that the changes in the experimental group do not have a substantial effect compared to the control group.\")\n",
    "\n",
    "\n",
    "\n",
    "is_statistical_significance(p_value, alpha)"
   ]
  },
  {
   "cell_type": "code",
   "execution_count": 26,
   "id": "326f906e-d67f-400d-a0e2-0a6e9e547de1",
   "metadata": {},
   "outputs": [
    {
     "data": {
      "image/png": "[encoded data removed]",
      "text/plain": [
       "<Figure size 640x480 with 1 Axes>"
      ]
     },
     "metadata": {},
     "output_type": "display_data"
    }
   ],
   "source": [
    "# Parameters for the standard normal distribution\n",
    "mu = 0  # Mean\n",
    "sigma = 1  # Standard deviation\n",
    "x = np.linspace(mu - 3*sigma, mu + 3*sigma, 100)\n",
    "y = norm.pdf(x, mu, sigma)\n",
    "\n",
    "\n",
    "# Plotting the standard normal distribution\n",
    "plt.plot(x, y, label='Standard Normal Distribution')\n",
    "# Shade the rejection region for a two-tailed test\n",
    "plt.fill_between(x, y, where=(x > Z_crit) | (x < -Z_crit), color='red', alpha=0.5, label='Rejection Region')\n",
    "# Adding Test Statistic\n",
    "plt.axvline(Test_stat, color='green', linestyle='dashed', linewidth=2, label=f'Test Statistic = {Test_stat:.2f}')\n",
    "# Adding Z-critical values\n",
    "plt.axvline(Z_crit, color='blue', linestyle='dashed', linewidth=1, label=f'Z-critical = {Z_crit:.2f}')\n",
    "plt.axvline(-Z_crit, color='blue', linestyle='dashed', linewidth=1)\n",
    "\n",
    "# Adding labels and title\n",
    "plt.xlabel('Z-value')\n",
    "plt.ylabel('Probability Density')\n",
    "plt.title('Gaussian Distribution with Rejection Region \\n (A/B Testing for LunarTech CTA button)')\n",
    "plt.legend()\n",
    "# Show plot\n",
    "plt.show()"
   ]
  },
  {
   "cell_type": "markdown",
   "id": "53c50080-a017-41cb-9fe2-bf0cd7056aec",
   "metadata": {},
   "source": [
    "Calculating Confidence Interval of the test"
   ]
  },
  {
   "cell_type": "code",
   "execution_count": 27,
   "id": "2224276c-c002-4a79-9544-a9ebdf442461",
   "metadata": {},
   "outputs": [
    {
     "name": "stdout",
     "output_type": "stream",
     "text": [
      "Confidence Interval of the 2 sample Z-test is:  [0.399, 0.426]\n"
     ]
    }
   ],
   "source": [
    "# Calculate the Confidence Interval (CI) for a 2-sample Z-test\n",
    "## Calculate the lower and upper bounds of the confidence interval\n",
    "CI = [\n",
    "    round((p_exp_hat - p_con_hat) - SE*Z_crit, 3),  # Lower bound of the CI, rounded to 3 decimal places\n",
    "    round((p_exp_hat - p_con_hat) + SE*Z_crit, 3)   # Upper bound of the CI, rounded to 3 decimal places\n",
    "]\n",
    "\n",
    "# Print the calculated confidence interval\n",
    "print(\"Confidence Interval of the 2 sample Z-test is: \", CI)\n",
    "\n",
    "# Here, the confidence interval provides a range of values within which the true difference between the experimental and control group proportions is likely to lie with a certain level of confidence (e.g., 95%).\n"
   ]
  },
  {
   "cell_type": "markdown",
   "id": "458a050c-bc88-4a5f-ab55-bbc6e2dff400",
   "metadata": {},
   "source": [
    "Testing for Practical Significance in A/B Testing"
   ]
  },
  {
   "cell_type": "code",
   "execution_count": null,
   "id": "0d753d24-2554-458d-9844-33fb98f207d6",
   "metadata": {},
   "outputs": [],
   "source": [
    "def is_Practically_significant(delta, CI_95):\n",
    "    \"\"\"\n",
    "    We assess here if the difference between Control and Experimental group is practically significant using the Minimum Detectable Effect (MDE) parameter from the Power Analysis.\n",
    "\n",
    "    Arguments:\n",
    "    - delta (float): The Minimum Detectable Effect (MDE) considered for practical significance.\n",
    "    - CI_95 (tuple): A tuple representing the lower and upper bounds of the 95% Confidence Interval.\n",
    "\n",
    "    Returns:\n",
    "    - Prints whether the experiment has practical significance based on the MDE and CI.\n",
    "    \"\"\"\n",
    "\n",
    "    # Extract lower bound of 95% Confidence Interval\n",
    "    lower_bound_CI = CI_95[0]\n",
    "\n",
    "    # Check if the lower bound of the CI is greater than or equal to delta\n",
    "    if delta >= lower_bound_CI:\n",
    "        print(f\"We have practical significance! \\nWith MDE of {delta}, The difference between Control and Experimental group is practically significant.\")\n",
    "        return True\n",
    "    else:\n",
    "        print(\"We don't have practical significance! \\nThe difference between Control and Experimental group is not practically significant.\")\n",
    "        return False\n",
    "\n",
    "\n",
    "\n",
    "# Call the function\n",
    "significance = is_Practically_significant(delta, CI_95)\n",
    "print(\"Lower bound of 95% confidence interval is: \", CI_95[0])\n"
   ]
  },
  {
   "cell_type": "markdown",
   "id": "df927649-dbe8-4ff6-bcc3-ba79308d9074",
   "metadata": {},
   "source": [
    "We have practical significance! \r\n",
    "With MDE of 0.1, The difference between Control and Experimental group is practically significant.\r\n",
    "Lower bound of 95% confidence interval is:  0.04\r\n"
   ]
  },
  {
   "cell_type": "code",
   "execution_count": null,
   "id": "b220f835-59be-4594-bb61-98515bcf754d",
   "metadata": {},
   "outputs": [],
   "source": []
  },
  {
   "cell_type": "code",
   "execution_count": null,
   "id": "8e639ee2-be24-4656-9c24-f4eb3cddf687",
   "metadata": {},
   "outputs": [],
   "source": []
  },
  {
   "cell_type": "code",
   "execution_count": null,
   "id": "8912c311-ca91-4c4d-b7d4-2002ae2be3a5",
   "metadata": {},
   "outputs": [],
   "source": []
  },
  {
   "cell_type": "code",
   "execution_count": null,
   "id": "1cdad95d-6a44-4d24-a4a6-ab06af1d5688",
   "metadata": {},
   "outputs": [],
   "source": []
  },
  {
   "cell_type": "code",
   "execution_count": null,
   "id": "3ac2b5a9-d622-4bc6-a267-d764447d2d0c",
   "metadata": {},
   "outputs": [],
   "source": []
  },
  {
   "cell_type": "code",
   "execution_count": null,
   "id": "389e7a9c-9b1e-4965-a1aa-7086a85cd126",
   "metadata": {},
   "outputs": [],
   "source": []
  },
  {
   "cell_type": "code",
   "execution_count": null,
   "id": "e1032adf-1c1b-492a-96a6-6ea1ab5245ea",
   "metadata": {},
   "outputs": [],
   "source": []
  },
  {
   "cell_type": "code",
   "execution_count": null,
   "id": "d9ca536e-a98c-4b42-8e03-12edbc6e2b96",
   "metadata": {},
   "outputs": [],
   "source": []
  },
  {
   "cell_type": "code",
   "execution_count": null,
   "id": "8ca64919-f1ac-48c0-90b2-70e04f30b064",
   "metadata": {},
   "outputs": [],
   "source": []
  },
  {
   "cell_type": "code",
   "execution_count": null,
   "id": "1468dfe6-44bb-441a-8b40-fb74ea219a75",
   "metadata": {},
   "outputs": [],
   "source": []
  },
  {
   "cell_type": "code",
   "execution_count": null,
   "id": "bf54aa1f-7596-4671-89a2-a3779dbb618b",
   "metadata": {},
   "outputs": [],
   "source": []
  },
  {
   "cell_type": "code",
   "execution_count": null,
   "id": "0b6ac0d8-23de-42c1-a9c3-b58bf9814dd3",
   "metadata": {},
   "outputs": [],
   "source": []
  },
  {
   "cell_type": "code",
   "execution_count": null,
   "id": "2b819dc0-7838-44d9-ae77-933163762829",
   "metadata": {},
   "outputs": [],
   "source": []
  },
  {
   "cell_type": "code",
   "execution_count": null,
   "id": "803b7a55-87ce-4814-a7c0-8e97751fe794",
   "metadata": {},
   "outputs": [],
   "source": []
  },
  {
   "cell_type": "code",
   "execution_count": null,
   "id": "6fde5679-afad-4b39-98d5-0dc65a0104bf",
   "metadata": {},
   "outputs": [],
   "source": []
  },
  {
   "cell_type": "code",
   "execution_count": null,
   "id": "f639bcea-66c6-45b8-aba5-c08e1ce50af6",
   "metadata": {},
   "outputs": [],
   "source": []
  },
  {
   "cell_type": "code",
   "execution_count": null,
   "id": "cea5c042-02fe-4829-848e-3f9ae850e15b",
   "metadata": {},
   "outputs": [],
   "source": []
  }
 ],
 "metadata": {
  "kernelspec": {
   "display_name": "Python 3 (ipykernel)",
   "language": "python",
   "name": "python3"
  },
  "language_info": {
   "codemirror_mode": {
    "name": "ipython",
    "version": 3
   },
   "file_extension": ".py",
   "mimetype": "text/x-python",
   "name": "python",
   "nbconvert_exporter": "python",
   "pygments_lexer": "ipython3",
   "version": "3.11.7"
  }
 },
 "nbformat": 4,
 "nbformat_minor": 5
}
